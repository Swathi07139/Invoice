{
  "nbformat": 4,
  "nbformat_minor": 0,
  "metadata": {
    "colab": {
      "provenance": [],
      "authorship_tag": "ABX9TyN9Erkh6/ARq/o20CnIaL8k",
      "include_colab_link": true
    },
    "kernelspec": {
      "name": "python3",
      "display_name": "Python 3"
    },
    "language_info": {
      "name": "python"
    }
  },
  "cells": [
    {
      "cell_type": "markdown",
      "metadata": {
        "id": "view-in-github",
        "colab_type": "text"
      },
      "source": [
        "<a href=\"https://colab.research.google.com/github/Swathi07139/Invoice/blob/main/rock_paper_scissor.ipynb\" target=\"_parent\"><img src=\"https://colab.research.google.com/assets/colab-badge.svg\" alt=\"Open In Colab\"/></a>"
      ]
    },
    {
      "cell_type": "code",
      "execution_count": 1,
      "metadata": {
        "colab": {
          "base_uri": "https://localhost:8080/"
        },
        "id": "yNQPZDCYnMj2",
        "outputId": "446f156c-c035-4387-fccb-22cea279e7dc"
      },
      "outputs": [
        {
          "output_type": "stream",
          "name": "stdout",
          "text": [
            "---------WELCOME TO ROCK PAPER SCISSOR GAME---------\n",
            "choose from ['rock', 'paper', 'scissor']rock\n",
            "computer chooses: paper\n",
            "Computer Wins\n",
            "choose from ['rock', 'paper', 'scissor']paper\n",
            "computer chooses: scissor\n",
            "Computer Wins\n",
            "choose from ['rock', 'paper', 'scissor']paper\n",
            "computer chooses: paper\n",
            "DRAW MATCH\n",
            "choose from ['rock', 'paper', 'scissor']ps\n",
            "computer chooses: scissor\n",
            "Computer Wins\n",
            "choose from ['rock', 'paper', 'scissor']cs\n",
            "computer chooses: scissor\n",
            "Computer Wins\n",
            "choose from ['rock', 'paper', 'scissor']exit\n",
            "computer chooses: rock\n",
            "Computer Wins\n",
            "Computer Wins the Whole Game with score 5\n"
          ]
        }
      ],
      "source": [
        "#!/usr/bin/env python\n",
        "# coding: utf-8\n",
        "\n",
        "# In[132]:\n",
        "\n",
        "\n",
        "from random import randint\n",
        "i=0\n",
        "ps=0\n",
        "cs=0\n",
        "\n",
        "print(\"---------WELCOME TO ROCK PAPER SCISSOR GAME---------\")\n",
        "while(True):\n",
        "    choice=['rock','paper','scissor']\n",
        "    player=input((f\"choose from {choice}\")).lower()\n",
        "    comp=choice[randint(0,2)]\n",
        "    print(\"computer chooses:\",comp)\n",
        "    if player==comp:\n",
        "        print(\"DRAW MATCH\")\n",
        "    elif player ==\"paper\" and comp==\"rock\":\n",
        "        print(\"player 1 wins\")\n",
        "        ps+=1\n",
        "    elif player ==\"rock\" and comp==\"scissor\":\n",
        "        print(\"player 1 wins\")\n",
        "        ps+=1\n",
        "    elif player ==\"scissor\" and comp==\"paper\":\n",
        "        print(\"player 1 wins\")\n",
        "        ps+=1\n",
        "    else:\n",
        "        print(\"Computer Wins\")\n",
        "        cs+=1\n",
        "    if(cs==5 or ps==5):\n",
        "        break\n",
        "\n",
        "\n",
        "if(ps>cs):\n",
        "    print(\"Player 1 wins Whole Game with score:\",ps)\n",
        "else:\n",
        "    print(\"Computer Wins the Whole Game with score\",cs)\n",
        "\n",
        "\n",
        "# In[ ]:\n",
        "\n"
      ]
    }
  ]
}